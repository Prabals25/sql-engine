{
 "cells": [
  {
   "cell_type": "code",
   "execution_count": 1,
   "metadata": {},
   "outputs": [],
   "source": [
    "import ollama \n",
    "import json"
   ]
  },
  {
   "cell_type": "code",
   "execution_count": 2,
   "metadata": {},
   "outputs": [],
   "source": [
    "client = ollama.Client()"
   ]
  },
  {
   "cell_type": "code",
   "execution_count": 36,
   "metadata": {},
   "outputs": [],
   "source": [
    "sql = client.generate(model=\"sqls\", prompt=\"What is the total sales for each region segment by product type?\")\n",
    "generated_sql = json.loads(sql.response)['sql_ans']"
   ]
  },
  {
   "cell_type": "code",
   "execution_count": null,
   "metadata": {},
   "outputs": [],
   "source": [
    "generated_sql"
   ]
  },
  {
   "cell_type": "code",
   "execution_count": 38,
   "metadata": {},
   "outputs": [],
   "source": [
    "query = {\n",
    "    \"user_selections\": {\n",
    "        \"columns\": [\"region\", \"total\"],\n",
    "        \"selected_values\": {\n",
    "            \"region\": [\"East\", \"South\"]\n",
    "        }\n",
    "    },\n",
    "    \"user_query\": \"What is the total sales for each region segment by product type?\",\n",
    "    \"generated_sql\": generated_sql\n",
    "}"
   ]
  },
  {
   "cell_type": "code",
   "execution_count": 39,
   "metadata": {},
   "outputs": [],
   "source": [
    "query_str = json.dumps(query)"
   ]
  },
  {
   "cell_type": "code",
   "execution_count": 40,
   "metadata": {},
   "outputs": [],
   "source": [
    "ver = client.generate(model=\"checker\", prompt=query_str)"
   ]
  },
  {
   "cell_type": "code",
   "execution_count": null,
   "metadata": {},
   "outputs": [],
   "source": [
    "query"
   ]
  },
  {
   "cell_type": "code",
   "execution_count": null,
   "metadata": {},
   "outputs": [],
   "source": [
    "json.loads(ver.response)['updated_sql']"
   ]
  },
  {
   "cell_type": "code",
   "execution_count": 1,
   "metadata": {},
   "outputs": [],
   "source": [
    "class SQLQueryValidator:\n",
    "    \"\"\"\n",
    "    A class to handle SQL query validation and modification based on user selections.\n",
    "    This class encapsulates the process of generating, validating, and updating SQL queries.\n",
    "    \"\"\"\n",
    "    \n",
    "    def __init__(self, client):\n",
    "        \"\"\"\n",
    "        Initialize the SQLQueryValidator with an Ollama client.\n",
    "        \n",
    "        Args:\n",
    "            client: An instance of ollama.Client for model interactions\n",
    "        \"\"\"\n",
    "        self.client = ollama.Client()\n",
    "        \n",
    "    def generate_initial_sql(self, user_query):\n",
    "        \"\"\"\n",
    "        Generate initial SQL query based on user's natural language query.\n",
    "        \n",
    "        Args:\n",
    "            user_query (str): Natural language query from user\n",
    "            \n",
    "        Returns:\n",
    "            dict: Response containing success status and SQL query\n",
    "        \"\"\"\n",
    "        sql = self.client.generate(model=\"sqls\", prompt=user_query)\n",
    "        response = json.loads(sql.response)\n",
    "        \n",
    "        if not response or 'sql_ans' not in response:\n",
    "            return {\n",
    "                'success': False,\n",
    "                'error': 'Failed to generate SQL query'\n",
    "            }\n",
    "            \n",
    "        if response['sql_ans'] == 'nan':\n",
    "            return {\n",
    "                'success': False,\n",
    "                'error': 'Invalid query or question not related to database'\n",
    "            }\n",
    "            \n",
    "        return {\n",
    "            'success': True,\n",
    "            'sql_query': response['sql_ans']\n",
    "        }\n",
    "    \n",
    "    def create_query_object(self, user_query, generated_sql, columns, selected_values):\n",
    "        \"\"\"\n",
    "        Create a query object for validation.\n",
    "        \n",
    "        Args:\n",
    "            user_query (str): Original user query\n",
    "            generated_sql (str): Generated SQL query\n",
    "            columns (list): Selected columns\n",
    "            selected_values (dict): Selected filter values\n",
    "            \n",
    "        Returns:\n",
    "            dict: Query object for validation\n",
    "        \"\"\"\n",
    "        return {\n",
    "            \"user_selections\": {\n",
    "                \"columns\": columns,\n",
    "                \"selected_values\": selected_values\n",
    "            },\n",
    "            \"user_query\": user_query,\n",
    "            \"generated_sql\": generated_sql\n",
    "        }\n",
    "    \n",
    "    def validate_and_update_sql(self, query_object):\n",
    "        \"\"\"\n",
    "        Validate and update SQL query based on user selections.\n",
    "        \n",
    "        Args:\n",
    "            query_object (dict): Query object containing user selections and SQL\n",
    "            \n",
    "        Returns:\n",
    "            dict: Response containing success status and updated SQL query\n",
    "        \"\"\"\n",
    "        try:\n",
    "            query_str = json.dumps(query_object)\n",
    "            verification = self.client.generate(model=\"checker\", prompt=query_str)\n",
    "            response = json.loads(verification.response)\n",
    "            \n",
    "            if not response or 'updated_sql' not in response:\n",
    "                return {\n",
    "                    'success': False,\n",
    "                    'error': 'Failed to validate SQL query'\n",
    "                }\n",
    "                \n",
    "            return {\n",
    "                'success': True,\n",
    "                'sql_query': response['updated_sql']\n",
    "            }\n",
    "            \n",
    "        except Exception as e:\n",
    "            return {\n",
    "                'success': False,\n",
    "                'error': str(e)\n",
    "            }\n",
    "\n",
    "# Example usage:\n",
    "# validator = SQLQueryValidator(client)\n",
    "# initial_response = validator.generate_initial_sql(\"What is the total sales for each region segment by product type?\")\n",
    "# if initial_response['success']:\n",
    "#     query_obj = validator.create_query_object(\n",
    "#         \"What is the total sales for each region segment by product type?\",\n",
    "#         initial_response['sql_query'],\n",
    "#         [\"region\", \"total\"],\n",
    "#         {\"region\": [\"East\", \"South\"]}\n",
    "#     )\n",
    "#     final_response = validator.validate_and_update_sql(query_obj)\n",
    "\n"
   ]
  },
  {
   "cell_type": "code",
   "execution_count": null,
   "metadata": {},
   "outputs": [],
   "source": [
    "# Example usage:\n",
    "validator = SQLQueryValidator(client)\n",
    "initial_response = validator.generate_initial_sql(\"What is the total sales for each region segment by product type?\")\n",
    "if initial_response['success']:\n",
    "    query_obj = validator.create_query_object(\n",
    "        \"What is the total sales for each region segment by product type?\",\n",
    "        initial_response['sql_query'],\n",
    "        [\"region\", \"total\"],\n",
    "        {\"region\": [\"East\", \"South\"]}\n",
    "    )\n",
    "    final_response = validator.validate_and_update_sql(query_obj)\n"
   ]
  },
  {
   "cell_type": "code",
   "execution_count": null,
   "metadata": {},
   "outputs": [],
   "source": [
    "# Import the OllamaLLM class from the correct module path\n",
    "# Import the OllamaLLM class from the local models directory\n",
    "from models.llm_ollama import OllamaLLM"
   ]
  },
  {
   "cell_type": "code",
   "execution_count": null,
   "metadata": {},
   "outputs": [],
   "source": []
  },
  {
   "cell_type": "code",
   "execution_count": null,
   "metadata": {},
   "outputs": [],
   "source": [
    "from transformers import AutoTokenizer, AutoModelForCausalLM, pipeline\n",
    "\n",
    "# Load tokenizer and model\n",
    "tokenizer = AutoTokenizer.from_pretrained(\"yasserrmd/Text2SQL-1.5B\")\n",
    "model = AutoModelForCausalLM.from_pretrained(\"yasserrmd/Text2SQL-1.5B\")\n",
    "\n",
    "# Define the pipeline\n",
    "pipe = pipeline(\"text-generation\", model=model, tokenizer=tokenizer)\n",
    "\n",
    "# Define system instruction\n",
    "system_instruction = \"Always separate code and explanation. Return SQL code in a separate block, followed by the explanation in a separate paragraph. Use markdown triple backticks (```sql for SQL) to format the code properly. Write the SQL query first in a separate code block. Then, explain the query in plain text. Do not merge them into one response. The query should always include the table structure using a CREATE TABLE statement before executing the main SQL query.\"\n",
    "\n",
    "# Define user query\n",
    "user_query = \"Show the total sales for each customer who has spent more than $50,000.\n",
    "CREATE TABLE sales (\n",
    "    id INT PRIMARY KEY,\n",
    "    customer_id INT,\n",
    "    total_amount DECIMAL(10,2),\n",
    "    FOREIGN KEY (customer_id) REFERENCES customers(id)\n",
    ");\n",
    "\n",
    "CREATE TABLE customers (\n",
    "    id INT PRIMARY KEY,\n",
    "    name VARCHAR(255)\n",
    ");\n",
    "\"\n",
    "\n",
    "# Define messages for input\n",
    "messages = [\n",
    "    {\"role\": \"system\", \"content\": system_instruction},\n",
    "    {\"role\": \"user\", \"content\": user_query},\n",
    "]\n",
    "\n",
    "# Generate SQL output\n",
    "response = pipe(messages)\n",
    "\n",
    "\n",
    "# Print the generated SQL query\n",
    "print(response[0]['generated_text'])\n"
   ]
  },
  {
   "cell_type": "code",
   "execution_count": null,
   "metadata": {},
   "outputs": [],
   "source": []
  }
 ],
 "metadata": {
  "kernelspec": {
   "display_name": "base",
   "language": "python",
   "name": "python3"
  },
  "language_info": {
   "codemirror_mode": {
    "name": "ipython",
    "version": 3
   },
   "file_extension": ".py",
   "mimetype": "text/x-python",
   "name": "python",
   "nbconvert_exporter": "python",
   "pygments_lexer": "ipython3",
   "version": "3.10.10"
  }
 },
 "nbformat": 4,
 "nbformat_minor": 2
}
