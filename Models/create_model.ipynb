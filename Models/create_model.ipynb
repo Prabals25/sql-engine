{
 "cells": [
  {
   "cell_type": "code",
   "execution_count": 1,
   "metadata": {},
   "outputs": [],
   "source": [
    "import subprocess"
   ]
  },
  {
   "cell_type": "code",
   "execution_count": 5,
   "metadata": {},
   "outputs": [
    {
     "name": "stderr",
     "output_type": "stream",
     "text": [
      "\u001b[?2026h\u001b[?25l\u001b[1Ggathering model components \u001b[K\n",
      "using existing layer sha256:dde5aa3fc5ffc17176b5e8bdc82f587b24b2678c6c66101bf7da77af9f7ccdff \u001b[K\n",
      "using existing layer sha256:966de95ca8a62200913e3f8bfbf84c8494536f1b94b49166851e76644e966396 \u001b[K\n",
      "using existing layer sha256:fcc5a6bec9daf9b561a68827b67ab6088e1dba9d1fa2a50d7bbcc8384e0a265d \u001b[K\n",
      "using existing layer sha256:a70ff7e570d97baaf4e62ac6e6ad9975e04caa6d900d3742d37698494479e0cd \u001b[K\n",
      "creating new layer sha256:008876d11fac9dd4f017b745704e2a3a3455f3725de990306cfc52327fd2923d \u001b[K\n",
      "creating new layer sha256:989cadf17acfb5e3ce5d63c1df3bf629a1d24262e857d0098c85cb34282cfc62 \u001b[K\n",
      "writing manifest \u001b[K\n",
      "success \u001b[K\u001b[?25h\u001b[?2026l\n"
     ]
    },
    {
     "data": {
      "text/plain": [
       "CompletedProcess(args=['ollama', 'create', 'sql-editor-1', '-f', './Modelfile'], returncode=0)"
      ]
     },
     "execution_count": 5,
     "metadata": {},
     "output_type": "execute_result"
    }
   ],
   "source": [
    "\n",
    "version = \"\"  # Update this as needed\n",
    "model_name = f\"sql-editor-{version}\"\n",
    "modelfile_path = \"./Modelfile\"\n",
    "# Run the command\n",
    "subprocess.run([\"ollama\", \"create\", model_name, \"-f\", modelfile_path])\n"
   ]
  }
 ],
 "metadata": {
  "kernelspec": {
   "display_name": "Python 3",
   "language": "python",
   "name": "python3"
  },
  "language_info": {
   "codemirror_mode": {
    "name": "ipython",
    "version": 3
   },
   "file_extension": ".py",
   "mimetype": "text/x-python",
   "name": "python",
   "nbconvert_exporter": "python",
   "pygments_lexer": "ipython3",
   "version": "3.11.12"
  }
 },
 "nbformat": 4,
 "nbformat_minor": 2
}
